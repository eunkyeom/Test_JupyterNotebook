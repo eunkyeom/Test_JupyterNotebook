{
 "cells": [
  {
   "cell_type": "markdown",
   "metadata": {},
   "source": [
    "# 라이브러리 임포트\n",
    "실습에 필요한 라이브러리를 임포트합니다."
   ]
  },
  {
   "cell_type": "code",
   "execution_count": 1,
   "metadata": {},
   "outputs": [],
   "source": [
    "# 시각화를 위해 pandas를 임포트합니다\n",
    "import pandas as pd\n",
    "# iris 데이터는 sklearn에서 직접 로드할 수 있습니다\n",
    "from sklearn.datasets import load_iris\n",
    "# sklearn의 train_test_split을 사용하면 라인 한줄로 손쉽게 데이터를 나눌 수 있습니다\n",
    "from sklearn.model_selection import train_test_split\n",
    "# Gaussian Naive Bayes로 iris 데이터를 분류하도록 하겠습니다\n",
    "from sklearn.naive_bayes import GaussianNB\n",
    "# 분류 성능을 측정하기 위해 metrics와 accuracy_score를 임포트합니다\n",
    "from sklearn import metrics\n",
    "from sklearn.metrics import accuracy_score\n",
    "# sklearn 모델의 동일한 결과 출력을 위해 선언합니다.\n",
    "import numpy as np\n",
    "np.random.seed(5)"
   ]
  },
  {
   "cell_type": "markdown",
   "metadata": {},
   "source": [
    "# iris 데이터 시각화"
   ]
  },
  {
   "cell_type": "code",
   "execution_count": 2,
   "metadata": {},
   "outputs": [
    {
     "data": {
      "text/html": [
       "<div>\n",
       "<style scoped>\n",
       "    .dataframe tbody tr th:only-of-type {\n",
       "        vertical-align: middle;\n",
       "    }\n",
       "\n",
       "    .dataframe tbody tr th {\n",
       "        vertical-align: top;\n",
       "    }\n",
       "\n",
       "    .dataframe thead th {\n",
       "        text-align: right;\n",
       "    }\n",
       "</style>\n",
       "<table border=\"1\" class=\"dataframe\">\n",
       "  <thead>\n",
       "    <tr style=\"text-align: right;\">\n",
       "      <th></th>\n",
       "      <th>sepal length (cm)</th>\n",
       "      <th>sepal width (cm)</th>\n",
       "      <th>petal length (cm)</th>\n",
       "      <th>petal width (cm)</th>\n",
       "      <th>target</th>\n",
       "    </tr>\n",
       "  </thead>\n",
       "  <tbody>\n",
       "    <tr>\n",
       "      <th>0</th>\n",
       "      <td>5.1</td>\n",
       "      <td>3.5</td>\n",
       "      <td>1.4</td>\n",
       "      <td>0.2</td>\n",
       "      <td>setosa</td>\n",
       "    </tr>\n",
       "    <tr>\n",
       "      <th>1</th>\n",
       "      <td>4.9</td>\n",
       "      <td>3.0</td>\n",
       "      <td>1.4</td>\n",
       "      <td>0.2</td>\n",
       "      <td>setosa</td>\n",
       "    </tr>\n",
       "    <tr>\n",
       "      <th>2</th>\n",
       "      <td>4.7</td>\n",
       "      <td>3.2</td>\n",
       "      <td>1.3</td>\n",
       "      <td>0.2</td>\n",
       "      <td>setosa</td>\n",
       "    </tr>\n",
       "    <tr>\n",
       "      <th>3</th>\n",
       "      <td>4.6</td>\n",
       "      <td>3.1</td>\n",
       "      <td>1.5</td>\n",
       "      <td>0.2</td>\n",
       "      <td>setosa</td>\n",
       "    </tr>\n",
       "    <tr>\n",
       "      <th>4</th>\n",
       "      <td>5.0</td>\n",
       "      <td>3.6</td>\n",
       "      <td>1.4</td>\n",
       "      <td>0.2</td>\n",
       "      <td>setosa</td>\n",
       "    </tr>\n",
       "  </tbody>\n",
       "</table>\n",
       "</div>"
      ],
      "text/plain": [
       "   sepal length (cm)  sepal width (cm)  petal length (cm)  petal width (cm)  \\\n",
       "0                5.1               3.5                1.4               0.2   \n",
       "1                4.9               3.0                1.4               0.2   \n",
       "2                4.7               3.2                1.3               0.2   \n",
       "3                4.6               3.1                1.5               0.2   \n",
       "4                5.0               3.6                1.4               0.2   \n",
       "\n",
       "   target  \n",
       "0  setosa  \n",
       "1  setosa  \n",
       "2  setosa  \n",
       "3  setosa  \n",
       "4  setosa  "
      ]
     },
     "execution_count": 2,
     "metadata": {},
     "output_type": "execute_result"
    }
   ],
   "source": [
    "# iris 데이터를 불러옵니다\n",
    "dataset = load_iris()\n",
    "# pandas의 데이터프레임으로 데이터를 저장합니다\n",
    "df = pd.DataFrame(dataset.data, columns=dataset.feature_names)\n",
    "# 분류값을 데이터프레임에 저장합니다\n",
    "df['target'] = dataset.target\n",
    "# 숫자인 분류값을 이해를 돕기위해 문자로 변경합니다\n",
    "df.target = df.target.map({0:\"setosa\", 1:\"versicolor\", 2:\"virginica\"})\n",
    "# 데이터를 확인해봅니다\n",
    "df.head()"
   ]
  },
  {
   "cell_type": "code",
   "execution_count": 3,
   "metadata": {},
   "outputs": [
    {
     "data": {
      "text/plain": [
       "setosa        50\n",
       "versicolor    50\n",
       "virginica     50\n",
       "Name: target, dtype: int64"
      ]
     },
     "execution_count": 3,
     "metadata": {},
     "output_type": "execute_result"
    }
   ],
   "source": [
    "df.target.value_counts()"
   ]
  },
  {
   "cell_type": "markdown",
   "metadata": {},
   "source": [
    "# iris 데이터의 분포도 확인\n",
    "iris 데이터의 분포도를 확인해보도록 하겠습니다.\n",
    "아래 챠트에서 볼 수 있듯, iris 데이터의 분포도가 정규분포(Gaussian Distribution)과 유사합니다.  "
   ]
  },
  {
   "cell_type": "code",
   "execution_count": 4,
   "metadata": {},
   "outputs": [],
   "source": [
    "# 분류값 별로 데이터프레임을 나눕니다\n",
    "setosa_df = df[df.target == \"setosa\"]\n",
    "versicolor_df = df[df.target == \"versicolor\"]\n",
    "virginica_df = df[df.target == \"virginica\"]"
   ]
  },
  {
   "cell_type": "markdown",
   "metadata": {},
   "source": [
    "## sepal length (cm)"
   ]
  },
  {
   "cell_type": "code",
   "execution_count": 5,
   "metadata": {},
   "outputs": [
    {
     "data": {
      "text/plain": [
       "<AxesSubplot:>"
      ]
     },
     "execution_count": 5,
     "metadata": {},
     "output_type": "execute_result"
    },
    {
     "data": {
      "image/png": "[encoded data removed]",
      "text/plain": [
       "<Figure size 576x288 with 2 Axes>"
      ]
     },
     "metadata": {
      "needs_background": "light"
     },
     "output_type": "display_data"
    }
   ],
   "source": [
    "ax = setosa_df['sepal length (cm)'].plot(kind='hist')\n",
    "setosa_df['sepal length (cm)'].plot(kind='kde', \n",
    "                                    ax=ax, \n",
    "                                    secondary_y=True, \n",
    "                                    title=\"setosa sepal length\", \n",
    "                                    figsize = (8,4))"
   ]
  },
  {
   "cell_type": "code",
   "execution_count": 6,
   "metadata": {},
   "outputs": [
    {
     "data": {
      "text/plain": [
       "<AxesSubplot:>"
      ]
     },
     "execution_count": 6,
     "metadata": {},
     "output_type": "execute_result"
    },
    {
     "data": {
      "image/png": "[encoded data removed]",
      "text/plain": [
       "<Figure size 576x288 with 2 Axes>"
      ]
     },
     "metadata": {
      "needs_background": "light"
     },
     "output_type": "display_data"
    }
   ],
   "source": [
    "ax = versicolor_df['sepal length (cm)'].plot(kind='hist')\n",
    "versicolor_df['sepal length (cm)'].plot(kind='kde', \n",
    "                                        ax=ax, \n",
    "                                        secondary_y=True, \n",
    "                                        title=\"versicolor sepal length\", \n",
    "                                        figsize = (8,4))"
   ]
  },
  {
   "cell_type": "code",
   "execution_count": 7,
   "metadata": {},
   "outputs": [
    {
     "data": {
      "text/plain": [
       "<AxesSubplot:>"
      ]
     },
     "execution_count": 7,
     "metadata": {},
     "output_type": "execute_result"
    },
    {
     "data": {
      "image/png": "[encoded data removed]",
      "text/plain": [
       "<Figure size 576x288 with 2 Axes>"
      ]
     },
     "metadata": {
      "needs_background": "light"
     },
     "output_type": "display_data"
    }
   ],
   "source": [
    "ax = virginica_df['sepal length (cm)'].plot(kind='hist')\n",
    "virginica_df['sepal length (cm)'].plot(kind='kde', \n",
    "                                       ax=ax, \n",
    "                                       secondary_y=True, \n",
    "                                       title=\"virginica sepal length\", \n",
    "                                       figsize = (8,4))"
   ]
  },
  {
   "cell_type": "markdown",
   "metadata": {},
   "source": [
    "## sepal width (cm)\t"
   ]
  },
  {
   "cell_type": "code",
   "execution_count": null,
   "metadata": {},
   "outputs": [],
   "source": [
    "ax = setosa_df['sepal width (cm)'].plot(kind='hist')\n",
    "setosa_df['sepal width (cm)'].plot(kind='kde', \n",
    "                                   ax=ax, \n",
    "                                   secondary_y=True, \n",
    "                                   title=\"setosa sepal width\", \n",
    "                                   figsize = (8,4))"
   ]
  },
  {
   "cell_type": "code",
   "execution_count": null,
   "metadata": {},
   "outputs": [],
   "source": [
    "ax = versicolor_df['sepal width (cm)'].plot(kind='hist')\n",
    "versicolor_df['sepal width (cm)'].plot(kind='kde', \n",
    "                                       ax=ax, \n",
    "                                       secondary_y=True, \n",
    "                                       title=\"versicolor sepal width\", \n",
    "                                       figsize = (8,4))"
   ]
  },
  {
   "cell_type": "code",
   "execution_count": null,
   "metadata": {},
   "outputs": [],
   "source": [
    "ax = virginica_df['sepal width (cm)'].plot(kind='hist')\n",
    "virginica_df['sepal width (cm)'].plot(kind='kde', \n",
    "                                      ax=ax, \n",
    "                                      secondary_y=True, \n",
    "                                      title=\"virginica sepal width\", \n",
    "                                      figsize = (8,4))"
   ]
  },
  {
   "cell_type": "markdown",
   "metadata": {},
   "source": [
    "## petal length (cm)"
   ]
  },
  {
   "cell_type": "code",
   "execution_count": null,
   "metadata": {},
   "outputs": [],
   "source": [
    "ax = setosa_df['petal length (cm)'].plot(kind='hist')\n",
    "setosa_df['petal length (cm)'].plot(kind='kde', \n",
    "                                    ax=ax, \n",
    "                                    secondary_y=True, \n",
    "                                    title=\"setosa petal length\", \n",
    "                                    figsize = (8,4))"
   ]
  },
  {
   "cell_type": "code",
   "execution_count": null,
   "metadata": {},
   "outputs": [],
   "source": [
    "ax = versicolor_df['petal length (cm)'].plot(kind='hist')\n",
    "versicolor_df['petal length (cm)'].plot(kind='kde', \n",
    "                                        ax=ax, \n",
    "                                        secondary_y=True, \n",
    "                                        title=\"versicolor petal length\", \n",
    "                                        figsize = (8,4))"
   ]
  },
  {
   "cell_type": "code",
   "execution_count": null,
   "metadata": {},
   "outputs": [],
   "source": [
    "ax = virginica_df['petal length (cm)'].plot(kind='hist')\n",
    "virginica_df['petal length (cm)'].plot(kind='kde', \n",
    "                                       ax=ax, \n",
    "                                       secondary_y=True, \n",
    "                                       title=\"virginica petal length\", \n",
    "                                       figsize = (8,4))"
   ]
  },
  {
   "cell_type": "markdown",
   "metadata": {},
   "source": [
    "## petal width (cm)"
   ]
  },
  {
   "cell_type": "code",
   "execution_count": null,
   "metadata": {},
   "outputs": [],
   "source": [
    "ax = setosa_df['petal width (cm)'].plot(kind='hist')\n",
    "setosa_df['petal width (cm)'].plot(kind='kde', \n",
    "                                   ax=ax, \n",
    "                                   secondary_y=True, \n",
    "                                   title=\"setosa petal width\", \n",
    "                                   figsize = (8,4))"
   ]
  },
  {
   "cell_type": "code",
   "execution_count": null,
   "metadata": {},
   "outputs": [],
   "source": [
    "ax = versicolor_df['petal width (cm)'].plot(kind='hist')\n",
    "versicolor_df['petal width (cm)'].plot(kind='kde', \n",
    "                                       ax=ax, \n",
    "                                       secondary_y=True, \n",
    "                                       title=\"versicolor petal width\", \n",
    "                                       figsize = (8,4))"
   ]
  },
  {
   "cell_type": "code",
   "execution_count": null,
   "metadata": {},
   "outputs": [],
   "source": [
    "ax = virginica_df['petal width (cm)'].plot(kind='hist')\n",
    "virginica_df['petal width (cm)'].plot(kind='kde', \n",
    "                                      ax=ax, \n",
    "                                      secondary_y=True, \n",
    "                                      title=\"virginica petal width\", \n",
    "                                      figsize = (8,4))"
   ]
  },
  {
   "cell_type": "markdown",
   "metadata": {},
   "source": [
    "# 데이터를 학습 데이터와 테스트 데이터로 나누기"
   ]
  },
  {
   "cell_type": "code",
   "execution_count": null,
   "metadata": {},
   "outputs": [],
   "source": [
    "# 20%를 테스트 데이터로 분류합니다\n",
    "X_train,X_test,y_train,y_test=train_test_split(dataset.data,dataset.target,test_size=0.2)"
   ]
  },
  {
   "cell_type": "markdown",
   "metadata": {},
   "source": [
    "# Gaussian Naive Bayes 분류하기"
   ]
  },
  {
   "cell_type": "code",
   "execution_count": null,
   "metadata": {},
   "outputs": [],
   "source": [
    "# 학습데이터로 모델을 학습합니다\n",
    "model = GaussianNB()\n",
    "model.fit(X_train, y_train)\n",
    "\n",
    "# 테스트 데이터로 모델을 테스트합니다\n",
    "expected = y_test\n",
    "predicted = model.predict(X_test)"
   ]
  },
  {
   "cell_type": "code",
   "execution_count": null,
   "metadata": {},
   "outputs": [],
   "source": [
    "print(metrics.classification_report(y_test, predicted))"
   ]
  },
  {
   "cell_type": "code",
   "execution_count": null,
   "metadata": {},
   "outputs": [],
   "source": [
    "accuracy_score(y_test, predicted)"
   ]
  },
  {
   "cell_type": "markdown",
   "metadata": {},
   "source": [
    "# Confusion Matrix\n",
    "아래 confusion matrix에서 보실 수 있듯이 1개의 데이터만 제외하고, 모든 데이터가 정확히 분류되었습니다."
   ]
  },
  {
   "cell_type": "code",
   "execution_count": null,
   "metadata": {},
   "outputs": [],
   "source": [
    "print(metrics.confusion_matrix(expected, predicted))"
   ]
  }
 ],
 "metadata": {
  "kernelspec": {
   "display_name": "Python 3 (ipykernel)",
   "language": "python",
   "name": "python3"
  },
  "language_info": {
   "codemirror_mode": {
    "name": "ipython",
    "version": 3
   },
   "file_extension": ".py",
   "mimetype": "text/x-python",
   "name": "python",
   "nbconvert_exporter": "python",
   "pygments_lexer": "ipython3",
   "version": "3.8.12"
  }
 },
 "nbformat": 4,
 "nbformat_minor": 2
}
