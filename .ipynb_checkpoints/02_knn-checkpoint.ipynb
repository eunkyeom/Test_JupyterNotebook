{
 "cells": [
  {
   "cell_type": "markdown",
   "metadata": {},
   "source": [
    "# 라이브러리 임포트\n",
    "실습에 필요한 라이브러리를 임포트합니다."
   ]
  },
  {
   "cell_type": "code",
   "execution_count": 1,
   "metadata": {},
   "outputs": [],
   "source": [
    "import pandas as pd\n",
    "import pickle\n",
    "import matplotlib.pyplot as plt\n",
    "import seaborn as sns\n",
    "import numpy as np\n",
    "\n",
    "%matplotlib inline\n",
    "\n",
    "np.random.seed(5)"
   ]
  },
  {
   "cell_type": "markdown",
   "metadata": {},
   "source": [
    "# 데이터 불러오기 (학습 데이터, 테스트 데이터)"
   ]
  },
  {
   "cell_type": "code",
   "execution_count": 2,
   "metadata": {},
   "outputs": [],
   "source": [
    "train = pd.read_csv(\"data/csv/basketball_train.csv\")\n",
    "test = pd.read_csv(\"data/csv/basketball_test.csv\")"
   ]
  },
  {
   "cell_type": "markdown",
   "metadata": {},
   "source": [
    "# 최적의 k 찾기 (교차 검증 - cross validation)"
   ]
  },
  {
   "cell_type": "code",
   "execution_count": 3,
   "metadata": {},
   "outputs": [
    {
     "data": {
      "text/plain": [
       "[0.9375,\n",
       " 0.9125,\n",
       " 0.925,\n",
       " 0.925,\n",
       " 0.9125,\n",
       " 0.9125,\n",
       " 0.9125,\n",
       " 0.9125,\n",
       " 0.9,\n",
       " 0.875,\n",
       " 0.875,\n",
       " 0.8625,\n",
       " 0.875,\n",
       " 0.85,\n",
       " 0.825,\n",
       " 0.825,\n",
       " 0.825,\n",
       " 0.8,\n",
       " 0.8]"
      ]
     },
     "execution_count": 3,
     "metadata": {},
     "output_type": "execute_result"
    }
   ],
   "source": [
    "# import kNN library\n",
    "from sklearn.neighbors import KNeighborsClassifier\n",
    "from sklearn.model_selection import cross_val_score\n",
    "\n",
    "# find best k, range from 3 to half of the number of data\n",
    "max_k_range = train.shape[0] // 2\n",
    "k_list = []\n",
    "for i in range(3, max_k_range, 2):\n",
    "    k_list.append(i)\n",
    "\n",
    "cross_validation_scores = []\n",
    "x_train = train[['3P', 'BLK' , 'TRB']]\n",
    "y_train = train[['Pos']]\n",
    "\n",
    "# 10-fold cross validation\n",
    "for k in k_list:\n",
    "    knn = KNeighborsClassifier(n_neighbors=k)\n",
    "    scores = cross_val_score(knn, x_train, y_train.values.ravel(),\n",
    "                             cv=10, scoring='accuracy')\n",
    "    cross_validation_scores.append(scores.mean())\n",
    "\n",
    "cross_validation_scores"
   ]
  },
  {
   "cell_type": "code",
   "execution_count": 4,
   "metadata": {},
   "outputs": [
    {
     "data": {
      "image/png": "[encoded data removed]",
      "text/plain": [
       "<Figure size 432x288 with 1 Axes>"
      ]
     },
     "metadata": {
      "needs_background": "light"
     },
     "output_type": "display_data"
    }
   ],
   "source": [
    "# visualize accuracy according to k\n",
    "plt.plot(k_list, cross_validation_scores)\n",
    "plt.xlabel('the number of k')\n",
    "plt.ylabel('Accuracy')\n",
    "plt.show()"
   ]
  },
  {
   "cell_type": "code",
   "execution_count": null,
   "metadata": {},
   "outputs": [],
   "source": [
    "# find best k\n",
    "cvs = cross_validation_scores\n",
    "k = k_list[cvs.index(max(cross_validation_scores))]\n",
    "print(\"The best number of k : \" + str(k) )"
   ]
  },
  {
   "cell_type": "markdown",
   "metadata": {},
   "source": [
    "# 2개의 특징으로 예측하기 (3점슛, 블로킹)"
   ]
  },
  {
   "cell_type": "code",
   "execution_count": null,
   "metadata": {},
   "outputs": [],
   "source": [
    "# import libraries\n",
    "from sklearn.neighbors import KNeighborsClassifier\n",
    "from sklearn.metrics import accuracy_score\n",
    "\n",
    "knn = KNeighborsClassifier(n_neighbors=k)\n",
    "\n",
    "# select data features\n",
    "x_train = train[['3P', 'BLK']]\n",
    "# select target value\n",
    "y_train = train[['Pos']]\n",
    "\n",
    "# setup knn using train data\n",
    "knn.fit(x_train, y_train.values.ravel())\n",
    "\n",
    "# select data feature to be used for prediction\n",
    "x_test = test[['3P', 'BLK']]\n",
    "\n",
    "# select target value\n",
    "y_test = test[['Pos']]\n",
    "\n",
    "# test\n",
    "pred = knn.predict(x_test)"
   ]
  },
  {
   "cell_type": "code",
   "execution_count": null,
   "metadata": {},
   "outputs": [],
   "source": [
    "# check ground_truth with knn prediction\n",
    "comparison = pd.DataFrame(\n",
    "    {'prediction':pred, 'ground_truth':y_test.values.ravel()}) \n",
    "comparison"
   ]
  },
  {
   "cell_type": "code",
   "execution_count": null,
   "metadata": {},
   "outputs": [],
   "source": [
    "# check accuracy\n",
    "print(\"accuracy : \"+ \n",
    "          str(accuracy_score(y_test.values.ravel(), pred)) )"
   ]
  },
  {
   "cell_type": "markdown",
   "metadata": {},
   "source": [
    "# 3개의 특징으로 예측하기 (3점슛, 블로킹, 리바운드)"
   ]
  },
  {
   "cell_type": "code",
   "execution_count": null,
   "metadata": {},
   "outputs": [],
   "source": [
    "knn = KNeighborsClassifier(n_neighbors=k)\n",
    "\n",
    "# select data features to be used in train\n",
    "x_train = train[['3P', 'BLK', 'TRB']]\n",
    "# select target\n",
    "y_train = train[['Pos']]\n",
    "\n",
    "# build knn model\n",
    "knn.fit(x_train, y_train.values.ravel())\n",
    "\n",
    "# select features to be used for prediction\n",
    "x_test = test[['3P', 'BLK', 'TRB']]\n",
    "\n",
    "# select target\n",
    "y_test = test[['Pos']]\n",
    "\n",
    "# test\n",
    "pred = knn.predict(x_test)"
   ]
  },
  {
   "cell_type": "code",
   "execution_count": null,
   "metadata": {},
   "outputs": [],
   "source": [
    "# check ground_truth with knn prediction\n",
    "comparison = pd.DataFrame(\n",
    "    {'prediction':pred, 'ground_truth':y_test.values.ravel()}) \n",
    "comparison"
   ]
  },
  {
   "cell_type": "code",
   "execution_count": null,
   "metadata": {},
   "outputs": [],
   "source": [
    "# check accuracy\n",
    "print(\"accuracy : \" + str( accuracy_score(y_test.values.ravel(), pred)) )"
   ]
  },
  {
   "cell_type": "code",
   "execution_count": null,
   "metadata": {},
   "outputs": [],
   "source": []
  }
 ],
 "metadata": {
  "kernelspec": {
   "display_name": "Python 3 (ipykernel)",
   "language": "python",
   "name": "python3"
  },
  "language_info": {
   "codemirror_mode": {
    "name": "ipython",
    "version": 3
   },
   "file_extension": ".py",
   "mimetype": "text/x-python",
   "name": "python",
   "nbconvert_exporter": "python",
   "pygments_lexer": "ipython3",
   "version": "3.8.12"
  }
 },
 "nbformat": 4,
 "nbformat_minor": 2
}
