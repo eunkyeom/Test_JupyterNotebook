{
 "cells": [
  {
   "cell_type": "markdown",
   "metadata": {},
   "source": [
    "# 라이브러리 임포트\n",
    "실습에 필요한 라이브러리를 임포트합니다."
   ]
  },
  {
   "cell_type": "code",
   "execution_count": 1,
   "metadata": {},
   "outputs": [],
   "source": [
    "import pandas as pd\n",
    "import pickle\n",
    "import matplotlib.pyplot as plt\n",
    "import seaborn as sns\n",
    "import numpy as np\n",
    "\n",
    "# 그래프 출력을 위해 선언합니다.\n",
    "%matplotlib inline\n",
    "# sklearn 모델의 동일한 결과 출력을 위해 선언합니다.\n",
    "np.random.seed(1234)"
   ]
  },
  {
   "cell_type": "markdown",
   "metadata": {},
   "source": [
    "# 데이터 불러오기 (학습 데이터, 테스트 데이터)\n",
    "데이터 분석 단계에서 생성한 농구 선수 포지션 예측하기의 학습 데이터 및 테스트 데이터를 로드합니다."
   ]
  },
  {
   "cell_type": "code",
   "execution_count": 2,
   "metadata": {},
   "outputs": [],
   "source": [
    "train = pd.read_csv(\"data/csv/basketball_train.csv\")\n",
    "test = pd.read_csv(\"data/csv/basketball_test.csv\")"
   ]
  },
  {
   "cell_type": "markdown",
   "metadata": {},
   "source": [
    "# SVM 최적의 파라미터 찾기\n",
    "SVM의 파라미터는 두가지가 있습니다.\n",
    "1. C : 비용 (cost), 결정경계선의 마진을 결정하는 파라미터입니다.\n",
    "2. gamma: 커널의 데이터포인트의 표준편차를 결정하는 파라미터입니다.\n",
    "\n",
    "결과적으로 C가 클수록, 결정경계선과 서포트 벡터의 간격(마진)이 작아집니다.  \n",
    "결과적으로 gamma가 클수록, 결정경계선이 데이터포인트와 더욱 가까워집니다."
   ]
  },
  {
   "cell_type": "code",
   "execution_count": null,
   "metadata": {},
   "outputs": [],
   "source": [
    "from sklearn.model_selection import GridSearchCV\n",
    "from sklearn.metrics import classification_report\n",
    "from sklearn.metrics import accuracy_score\n",
    "from sklearn.svm import SVC\n",
    "\n",
    "import numpy as np"
   ]
  },
  {
   "cell_type": "markdown",
   "metadata": {},
   "source": [
    "sklearn에서 제공하는 gridsearch를 사용하시면, 손쉽게 최적의 C, gamma를 구하실 수 있습니다."
   ]
  },
  {
   "cell_type": "code",
   "execution_count": null,
   "metadata": {},
   "outputs": [],
   "source": [
    "def svc_param_selection(X, y, nfolds):\n",
    "    svm_parameters = [\n",
    "                        {'kernel': ['rbf'],\n",
    "                         'gamma': [0.00001,0.0001, 0.001, 0.01, 0.1, 1],\n",
    "                         'C': [0.01, 0.1, 1, 10, 100, 1000]\n",
    "                        }\n",
    "                     ]\n",
    "    \n",
    "    clf = GridSearchCV(SVC(), svm_parameters, cv=nfolds)\n",
    "    clf.fit(X, y)\n",
    "    print(clf.best_params_)\n",
    "    \n",
    "    return clf"
   ]
  },
  {
   "cell_type": "code",
   "execution_count": null,
   "metadata": {},
   "outputs": [],
   "source": [
    "X_train = train[['3P', 'BLK']]\n",
    "y_train = train[['Pos']]\n",
    "# 최적의 파라미터를 sklearn의 gridsearch를 통해 구합니다.\n",
    "clf = svc_param_selection(X_train, y_train.values.ravel(), 10)"
   ]
  },
  {
   "cell_type": "markdown",
   "metadata": {},
   "source": [
    "# 시각화\n",
    "최적의 파라미터일 때의 결정경계선과, 다른 파라미터들일 때의 결정경계선을 비교해봅니다."
   ]
  },
  {
   "cell_type": "code",
   "execution_count": null,
   "metadata": {},
   "outputs": [],
   "source": [
    "# 시각화를 하기 위해, 최적의 C와 최적의 C를 비교하기 위한 다른 C를 후보로 저장합니다.\n",
    "C_canditates = []\n",
    "C_canditates.append(clf.best_params_['C'] * 0.01)\n",
    "C_canditates.append(clf.best_params_['C'])\n",
    "C_canditates.append(clf.best_params_['C'] * 100)\n",
    "\n",
    "# 시각화를 하기 위해, 최적의 gamma와 최적의 gamma를 비교하기 위한 다른 gamma를 후보로 저장합니다.\n",
    "gamma_candidates = []\n",
    "gamma_candidates.append(clf.best_params_['gamma'] * 0.01)\n",
    "gamma_candidates.append(clf.best_params_['gamma'])\n",
    "gamma_candidates.append(clf.best_params_['gamma'] * 100)\n",
    "\n",
    "X = train[['3P', 'BLK']]\n",
    "Y = train['Pos'].tolist()\n",
    "\n",
    "# 포지션에 해당하는 문자열 SG와 C를 벡터화합니다.\n",
    "position = []\n",
    "for gt in Y:\n",
    "    if gt == 'C':\n",
    "        position.append(0)\n",
    "    else:\n",
    "        position.append(1)\n",
    "\n",
    "# 각각의 파라미터에 해당하는 SVM 모델을 만들어 classifiers에 저장합니다.\n",
    "classifiers = []\n",
    "for C in C_canditates:\n",
    "    for gamma in gamma_candidates:\n",
    "        clf = SVC(C=C, gamma=gamma)\n",
    "        clf.fit(X, Y)\n",
    "        classifiers.append((C, gamma, clf))\n",
    "\n",
    "# 18,18 사이즈의 챠트를 구성합니다.\n",
    "plt.figure(figsize=(18, 18))\n",
    "xx, yy = np.meshgrid(np.linspace(0, 4, 100), np.linspace(0, 4, 100))\n",
    "\n",
    "# 각각의 모델들에 대한 결정 경계 함수를 적용하여 함께 시각화합니다.\n",
    "for (k, (C, gamma, clf)) in enumerate(classifiers):\n",
    "    Z = clf.decision_function(np.c_[xx.ravel(), yy.ravel()])\n",
    "    Z = Z.reshape(xx.shape)\n",
    "\n",
    "    # 최적의 모델을 포함한 다른 파라미터로 학습된 모델들을 함께 시각화해봅니다.\n",
    "    plt.subplot(len(C_canditates), len(gamma_candidates), k + 1)\n",
    "    plt.title(\"gamma=10^%d, C=10^%d\" % (np.log10(gamma), np.log10(C)),\n",
    "              size='medium')\n",
    "\n",
    "    # 서포트 벡터와 결정경계선을 시각화합니다.\n",
    "    plt.pcolormesh(xx, yy, -Z, cmap=plt.cm.RdBu)\n",
    "    plt.scatter(X['3P'], X['BLK'], c=position, cmap=plt.cm.RdBu_r, edgecolors='k')"
   ]
  },
  {
   "cell_type": "markdown",
   "metadata": {},
   "source": [
    "# 테스트\n",
    "sklearn의 gridsearch로 얻어진 최적의 파라미터로 학습된 clf를 이용하여,  \n",
    "테스트를 진행합니다."
   ]
  },
  {
   "cell_type": "code",
   "execution_count": null,
   "metadata": {},
   "outputs": [],
   "source": [
    "# 테스트에 사용될 특징을 지정합니다\n",
    "X_test = test[['3P', 'BLK']]\n",
    "\n",
    "# 특징으로 예측할 값 (농구선수 포지션)을 지정합니다\n",
    "y_test = test[['Pos']]\n",
    "\n",
    "# 최적의 파라미터로 완성된 SVM에 테스트 데이터를 주입하여, 실제값과 예측값을 얻습니다.\n",
    "y_true, y_pred = y_test, clf.predict(X_test)\n",
    "\n",
    "print(classification_report(y_true, y_pred))\n",
    "print()\n",
    "print(\"accuracy : \"+ str(accuracy_score(y_true, y_pred)) )"
   ]
  },
  {
   "cell_type": "code",
   "execution_count": null,
   "metadata": {},
   "outputs": [],
   "source": [
    "# 실제값(ground truth)과 예측값(prediction)이 어느 정도 일치하는 눈으로 직접 비교해봅니다\n",
    "comparison = pd.DataFrame({'prediction':y_pred, 'ground_truth':y_true.values.ravel()}) \n",
    "comparison"
   ]
  },
  {
   "cell_type": "code",
   "execution_count": null,
   "metadata": {},
   "outputs": [],
   "source": []
  }
 ],
 "metadata": {
  "kernelspec": {
   "display_name": "Python 3 (ipykernel)",
   "language": "python",
   "name": "python3"
  },
  "language_info": {
   "codemirror_mode": {
    "name": "ipython",
    "version": 3
   },
   "file_extension": ".py",
   "mimetype": "text/x-python",
   "name": "python",
   "nbconvert_exporter": "python",
   "pygments_lexer": "ipython3",
   "version": "3.8.12"
  }
 },
 "nbformat": 4,
 "nbformat_minor": 2
}
