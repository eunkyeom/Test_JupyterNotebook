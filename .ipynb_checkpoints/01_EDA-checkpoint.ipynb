{
 "cells": [
  {
   "cell_type": "markdown",
   "id": "a228750f",
   "metadata": {},
   "source": [
    "# 문제 정의"
   ]
  },
  {
   "cell_type": "markdown",
   "id": "d6ebbc32",
   "metadata": {},
   "source": [
    "- 농구 선수의 경기 기록을 바탕으로, 그 선수의 포지션을 예측해보도록 하겠습니다."
   ]
  },
  {
   "cell_type": "code",
   "execution_count": 1,
   "id": "5699f958",
   "metadata": {},
   "outputs": [],
   "source": [
    "import pandas as pd\n",
    "import numpy as np"
   ]
  },
  {
   "cell_type": "markdown",
   "id": "c2af7a20",
   "metadata": {},
   "source": [
    "# 데이터 수집"
   ]
  },
  {
   "cell_type": "code",
   "execution_count": 2,
   "id": "8ea6285a",
   "metadata": {},
   "outputs": [],
   "source": [
    "# 수집된 데이터를 읽어오기\n",
    "df = pd.read_csv('data/csv/basketball_stat.csv')"
   ]
  },
  {
   "cell_type": "code",
   "execution_count": 3,
   "id": "a2754af6",
   "metadata": {},
   "outputs": [
    {
     "data": {
      "text/html": [
       "<div>\n",
       "<style scoped>\n",
       "    .dataframe tbody tr th:only-of-type {\n",
       "        vertical-align: middle;\n",
       "    }\n",
       "\n",
       "    .dataframe tbody tr th {\n",
       "        vertical-align: top;\n",
       "    }\n",
       "\n",
       "    .dataframe thead th {\n",
       "        text-align: right;\n",
       "    }\n",
       "</style>\n",
       "<table border=\"1\" class=\"dataframe\">\n",
       "  <thead>\n",
       "    <tr style=\"text-align: right;\">\n",
       "      <th></th>\n",
       "      <th>Player</th>\n",
       "      <th>Pos</th>\n",
       "      <th>3P</th>\n",
       "      <th>2P</th>\n",
       "      <th>TRB</th>\n",
       "      <th>AST</th>\n",
       "      <th>STL</th>\n",
       "      <th>BLK</th>\n",
       "    </tr>\n",
       "  </thead>\n",
       "  <tbody>\n",
       "    <tr>\n",
       "      <th>0</th>\n",
       "      <td>Alex Abrines</td>\n",
       "      <td>SG</td>\n",
       "      <td>1.4</td>\n",
       "      <td>0.6</td>\n",
       "      <td>1.3</td>\n",
       "      <td>0.6</td>\n",
       "      <td>0.5</td>\n",
       "      <td>0.1</td>\n",
       "    </tr>\n",
       "    <tr>\n",
       "      <th>1</th>\n",
       "      <td>Steven Adams</td>\n",
       "      <td>C</td>\n",
       "      <td>0.0</td>\n",
       "      <td>4.7</td>\n",
       "      <td>7.7</td>\n",
       "      <td>1.1</td>\n",
       "      <td>1.1</td>\n",
       "      <td>1.0</td>\n",
       "    </tr>\n",
       "    <tr>\n",
       "      <th>2</th>\n",
       "      <td>Alexis Ajinca</td>\n",
       "      <td>C</td>\n",
       "      <td>0.0</td>\n",
       "      <td>2.3</td>\n",
       "      <td>4.5</td>\n",
       "      <td>0.3</td>\n",
       "      <td>0.5</td>\n",
       "      <td>0.6</td>\n",
       "    </tr>\n",
       "    <tr>\n",
       "      <th>3</th>\n",
       "      <td>Chris Andersen</td>\n",
       "      <td>C</td>\n",
       "      <td>0.0</td>\n",
       "      <td>0.8</td>\n",
       "      <td>2.6</td>\n",
       "      <td>0.4</td>\n",
       "      <td>0.4</td>\n",
       "      <td>0.6</td>\n",
       "    </tr>\n",
       "    <tr>\n",
       "      <th>4</th>\n",
       "      <td>Will Barton</td>\n",
       "      <td>SG</td>\n",
       "      <td>1.5</td>\n",
       "      <td>3.5</td>\n",
       "      <td>4.3</td>\n",
       "      <td>3.4</td>\n",
       "      <td>0.8</td>\n",
       "      <td>0.5</td>\n",
       "    </tr>\n",
       "  </tbody>\n",
       "</table>\n",
       "</div>"
      ],
      "text/plain": [
       "           Player Pos   3P   2P  TRB  AST  STL  BLK\n",
       "0    Alex Abrines  SG  1.4  0.6  1.3  0.6  0.5  0.1\n",
       "1    Steven Adams   C  0.0  4.7  7.7  1.1  1.1  1.0\n",
       "2   Alexis Ajinca   C  0.0  2.3  4.5  0.3  0.5  0.6\n",
       "3  Chris Andersen   C  0.0  0.8  2.6  0.4  0.4  0.6\n",
       "4     Will Barton  SG  1.5  3.5  4.3  3.4  0.8  0.5"
      ]
     },
     "execution_count": 3,
     "metadata": {},
     "output_type": "execute_result"
    }
   ],
   "source": [
    "# 수집된 데이터 샘플을 확인.\n",
    "df.head()"
   ]
  },
  {
   "cell_type": "code",
   "execution_count": null,
   "id": "a73e7c24",
   "metadata": {},
   "outputs": [],
   "source": [
    "# 현재 가지고 있는 데이터에서, Pos의 갯수를 확인한다.\n",
    "df.Pos.value_counts()"
   ]
  },
  {
   "cell_type": "markdown",
   "id": "c108b439",
   "metadata": {},
   "source": [
    "# 데이터 시각화"
   ]
  },
  {
   "cell_type": "markdown",
   "id": "b5fb5bba",
   "metadata": {},
   "source": [
    "데이터 특징을 바탕으로 한 공간에 시각화함으로써, 우리는 머신러닝 학습에 필요한 특징과 불필요한 특징을 쉽게 구분 지을 수 있다."
   ]
  },
  {
   "cell_type": "code",
   "execution_count": null,
   "id": "988b567a",
   "metadata": {},
   "outputs": [],
   "source": [
    "import matplotlib.pyplot as plt\n",
    "import seaborn as sns\n",
    "%matplotlib inline\n",
    "\n",
    "# 'STL', '2P' 데이터 시각화\n",
    "sns.lmplot('STL', '2P', data=df, fit_reg=False, # x축, y축, 데이터, 라인없음\n",
    "            scatter_kws={\"s\":150}, # 좌표 상의 점의 크기\n",
    "            markers=[\"o\", \"x\"],\n",
    "            hue=\"Pos\") # 예측값\n",
    "\n",
    "#title\n",
    "plt.title('STL and 2P in 2d plane')\n"
   ]
  },
  {
   "cell_type": "code",
   "execution_count": null,
   "id": "df94f3dc",
   "metadata": {},
   "outputs": [],
   "source": [
    "# 어시스트, '2P' 데이터 시각화\n",
    "sns.lmplot('AST', '2P', data=df, fit_reg=False, # x축, y축, 데이터, 라인없음\n",
    "            scatter_kws={\"s\":150}, # 좌표 상의 점의 크기\n",
    "            markers=[\"o\", \"x\"],\n",
    "            hue=\"Pos\") # 예측값\n",
    "\n",
    "#title\n",
    "plt.title('AST and 2P in 2d plane')"
   ]
  },
  {
   "cell_type": "code",
   "execution_count": null,
   "id": "3990c94d",
   "metadata": {},
   "outputs": [],
   "source": [
    "# 블로킹, '3P' 데이터 시각화\n",
    "sns.lmplot('BLK', '3P', data=df, fit_reg=False, # x축, y축, 데이터, 라인없음\n",
    "            scatter_kws={\"s\":150}, # 좌표 상의 점의 크기\n",
    "            markers=[\"o\", \"x\"],\n",
    "            hue=\"Pos\") # 예측값\n",
    "\n",
    "#title\n",
    "plt.title('BLK and 3P in 2d plane')"
   ]
  },
  {
   "cell_type": "code",
   "execution_count": null,
   "id": "a78e75b3",
   "metadata": {},
   "outputs": [],
   "source": [
    "# 리바운드, '3P' 데이터 시각화\n",
    "sns.lmplot('TRB', '3P', data=df, fit_reg=False, # x축, y축, 데이터, 라인없음\n",
    "            scatter_kws={\"s\":150}, # 좌표 상의 점의 크기\n",
    "            markers=[\"o\", \"x\"],\n",
    "            hue=\"Pos\") # 예측값\n",
    "\n",
    "#title\n",
    "plt.title('TRB and 3P in 2d plane')"
   ]
  },
  {
   "cell_type": "markdown",
   "id": "cb6ab25d",
   "metadata": {},
   "source": [
    "# 데이터 다듬기"
   ]
  },
  {
   "cell_type": "code",
   "execution_count": null,
   "id": "dcfe7439",
   "metadata": {},
   "outputs": [],
   "source": [
    "# 분별력이 없는 특징(feature)을 데이터에서 제거한다.\n",
    "df.drop(['2P', 'AST', 'STL'], axis=1, inplace=True)\n",
    "df.head()"
   ]
  },
  {
   "cell_type": "markdown",
   "id": "5acdda73",
   "metadata": {},
   "source": [
    "# 데이터 나누기(학습 데이터, 테스트 데이터)"
   ]
  },
  {
   "cell_type": "code",
   "execution_count": null,
   "id": "bf6ff5b9",
   "metadata": {},
   "outputs": [],
   "source": [
    "# sklearn의 train_test_split을 사용하면 코드 한 줄로 손쉽게 데이터를 나눌 수 있다.\n",
    "# conda install scikit-learn : 설치 \n",
    "from sklearn.model_selection import train_test_split\n",
    "\n",
    "# sklearn의 train_test_split 의 동일한 결과 출력을 위해 선언합니다.\n",
    "np.random.seed(1234)\n",
    "\n",
    "train, test = train_test_split(df, test_size=0.2)"
   ]
  },
  {
   "cell_type": "code",
   "execution_count": null,
   "id": "fa7be37e",
   "metadata": {},
   "outputs": [],
   "source": [
    "# 학습 데이터의 갯수를 확인.\n",
    "train.shape[0]"
   ]
  },
  {
   "cell_type": "code",
   "execution_count": null,
   "id": "b71da520",
   "metadata": {},
   "outputs": [],
   "source": [
    "# 테스트 데이터의 갯수를 확인.\n",
    "test.shape[0]"
   ]
  },
  {
   "cell_type": "code",
   "execution_count": null,
   "id": "13b9a548",
   "metadata": {},
   "outputs": [],
   "source": [
    "train.to_csv(\"data/csv/basketball_train.csv\", index = None)"
   ]
  },
  {
   "cell_type": "code",
   "execution_count": null,
   "id": "89e83031",
   "metadata": {},
   "outputs": [],
   "source": [
    "test.to_csv(\"data/csv/basketball_test.csv\", index = None)"
   ]
  },
  {
   "cell_type": "code",
   "execution_count": null,
   "id": "43b5422b",
   "metadata": {},
   "outputs": [],
   "source": []
  }
 ],
 "metadata": {
  "kernelspec": {
   "display_name": "Python 3 (ipykernel)",
   "language": "python",
   "name": "python3"
  },
  "language_info": {
   "codemirror_mode": {
    "name": "ipython",
    "version": 3
   },
   "file_extension": ".py",
   "mimetype": "text/x-python",
   "name": "python",
   "nbconvert_exporter": "python",
   "pygments_lexer": "ipython3",
   "version": "3.8.12"
  }
 },
 "nbformat": 4,
 "nbformat_minor": 5
}
